{
  "nbformat": 4,
  "nbformat_minor": 0,
  "metadata": {
    "colab": {
      "name": "Istanbul_population_history.ipynb",
      "provenance": [],
      "include_colab_link": true
    },
    "kernelspec": {
      "name": "python3",
      "display_name": "Python 3"
    }
  },
  "cells": [
    {
      "cell_type": "markdown",
      "metadata": {
        "id": "view-in-github",
        "colab_type": "text"
      },
      "source": [
        "<a href=\"https://colab.research.google.com/github/AliKhyar/Your-restaurant-at-Istanbul/blob/master/Istanbul_population_history.ipynb\" target=\"_parent\"><img src=\"https://colab.research.google.com/assets/colab-badge.svg\" alt=\"Open In Colab\"/></a>"
      ]
    },
    {
      "cell_type": "code",
      "metadata": {
        "id": "Q3yJK7TjWrWB",
        "colab_type": "code",
        "colab": {}
      },
      "source": [
        "import requests\n",
        "from bs4 import BeautifulSoup\n",
        "import pandas as pd"
      ],
      "execution_count": 0,
      "outputs": []
    },
    {
      "cell_type": "code",
      "metadata": {
        "id": "9-RcoGuJXKtg",
        "colab_type": "code",
        "colab": {}
      },
      "source": [
        "url = 'https://populationstat.com/turkey/istanbul'\n",
        "website_url = requests.get(url).text"
      ],
      "execution_count": 0,
      "outputs": []
    },
    {
      "cell_type": "code",
      "metadata": {
        "id": "R78lU-iBXYPb",
        "colab_type": "code",
        "outputId": "b66808b0-7095-45b3-e273-b32d01cd243f",
        "colab": {
          "base_uri": "https://localhost:8080/",
          "height": 54
        }
      },
      "source": [
        "soup = BeautifulSoup(website_url,'lxml')\n",
        "my_table = soup.find('div',{'class':\"city_table\"})\n",
        "print(my_table)"
      ],
      "execution_count": 75,
      "outputs": [
        {
          "output_type": "stream",
          "text": [
            "<div class=\"city_table\"><div><span class=\"year\">1950</span> <span class=\"pop\">967,000</span></div><div><span class=\"year\">1951</span> <span class=\"pop\">1,018,000</span></div><div><span class=\"year\">1952</span> <span class=\"pop\">1,072,000</span></div><div><span class=\"year\">1953</span> <span class=\"pop\">1,128,000</span></div><div><span class=\"year\">1954</span> <span class=\"pop\">1,187,000</span></div><div><span class=\"year\">1955</span> <span class=\"pop\">1,249,000</span></div><div><span class=\"year\">1956</span> <span class=\"pop\">1,294,000</span></div><div><span class=\"year\">1957</span> <span class=\"pop\">1,332,000</span></div><div><span class=\"year\">1958</span> <span class=\"pop\">1,371,000</span></div><div><span class=\"year\">1959</span> <span class=\"pop\">1,412,000</span></div><div><span class=\"year\">1960</span> <span class=\"pop\">1,453,000</span></div><div><span class=\"year\">1961</span> <span class=\"pop\">1,535,000</span></div><div><span class=\"year\">1962</span> <span class=\"pop\">1,640,000</span></div><div><span class=\"year\">1963</span> <span class=\"pop\">1,753,000</span></div><div><span class=\"year\">1964</span> <span class=\"pop\">1,873,000</span></div><div><span class=\"year\">1965</span> <span class=\"pop\">2,001,000</span></div><div><span class=\"year\">1966</span> <span class=\"pop\">2,137,000</span></div><div><span class=\"year\">1967</span> <span class=\"pop\">2,280,000</span></div><div><span class=\"year\">1968</span> <span class=\"pop\">2,434,000</span></div><div><span class=\"year\">1969</span> <span class=\"pop\">2,597,000</span></div><div><span class=\"year\">1970</span> <span class=\"pop\">2,772,000</span></div><div><span class=\"year\">1971</span> <span class=\"pop\">2,931,000</span></div><div><span class=\"year\">1972</span> <span class=\"pop\">3,086,000</span></div><div><span class=\"year\">1973</span> <span class=\"pop\">3,249,000</span></div><div><span class=\"year\">1974</span> <span class=\"pop\">3,420,000</span></div><div><span class=\"year\">1975</span> <span class=\"pop\">3,600,000</span></div><div><span class=\"year\">1976</span> <span class=\"pop\">3,759,000</span></div><div><span class=\"year\">1977</span> <span class=\"pop\">3,909,000</span></div><div><span class=\"year\">1978</span> <span class=\"pop\">4,065,000</span></div><div><span class=\"year\">1979</span> <span class=\"pop\">4,228,000</span></div><div><span class=\"year\">1980</span> <span class=\"pop\">4,397,000</span></div><div><span class=\"year\">1981</span> <span class=\"pop\">4,580,000</span></div><div><span class=\"year\">1982</span> <span class=\"pop\">4,774,000</span></div><div><span class=\"year\">1983</span> <span class=\"pop\">4,977,000</span></div><div><span class=\"year\">1984</span> <span class=\"pop\">5,188,000</span></div><div><span class=\"year\">1985</span> <span class=\"pop\">5,407,000</span></div><div><span class=\"year\">1986</span> <span class=\"pop\">5,624,000</span></div><div><span class=\"year\">1987</span> <span class=\"pop\">5,843,000</span></div><div><span class=\"year\">1988</span> <span class=\"pop\">6,070,000</span></div><div><span class=\"year\">1989</span> <span class=\"pop\">6,307,000</span></div><div><span class=\"year\">1990</span> <span class=\"pop\">6,552,000</span></div><div><span class=\"year\">1991</span> <span class=\"pop\">6,773,000</span></div><div><span class=\"year\">1992</span> <span class=\"pop\">6,986,000</span></div><div><span class=\"year\">1993</span> <span class=\"pop\">7,205,000</span></div><div><span class=\"year\">1994</span> <span class=\"pop\">7,432,000</span></div><div><span class=\"year\">1995</span> <span class=\"pop\">7,665,000</span></div><div><span class=\"year\">1996</span> <span class=\"pop\">7,907,000</span></div><div><span class=\"year\">1997</span> <span class=\"pop\">8,155,000</span></div><div><span class=\"year\">1998</span> <span class=\"pop\">8,367,000</span></div><div><span class=\"year\">1999</span> <span class=\"pop\">8,553,000</span></div><div><span class=\"year\">2000</span> <span class=\"pop\">8,744,000</span></div><div><span class=\"year\">2001</span> <span class=\"pop\">9,030,000</span></div><div><span class=\"year\">2002</span> <span class=\"pop\">9,370,000</span></div><div><span class=\"year\">2003</span> <span class=\"pop\">9,722,000</span></div><div><span class=\"year\">2004</span> <span class=\"pop\">10,087,000</span></div><div><span class=\"year\">2005</span> <span class=\"pop\">10,466,000</span></div><div><span class=\"year\">2006</span> <span class=\"pop\">10,859,000</span></div><div><span class=\"year\">2007</span> <span class=\"pop\">11,267,000</span></div><div><span class=\"year\">2008</span> <span class=\"pop\">11,691,000</span></div><div><span class=\"year\">2009</span> <span class=\"pop\">12,129,000</span></div><div><span class=\"year\">2010</span> <span class=\"pop\">12,585,000</span></div><div><span class=\"year\">2011</span> <span class=\"pop\">13,058,000</span></div><div><span class=\"year\">2012</span> <span class=\"pop\">13,419,000</span></div><div><span class=\"year\">2013</span> <span class=\"pop\">13,658,000</span></div><div><span class=\"year\">2014</span> <span class=\"pop\">13,902,000</span></div><div><span class=\"year\">2015</span> <span class=\"pop\">14,127,000</span></div><div><span class=\"year\">2016</span> <span class=\"pop\">14,332,000</span></div><div><span class=\"year\">2017</span> <span class=\"pop\">14,540,000</span></div><div><span class=\"year\">2018</span> <span class=\"pop\">14,751,000</span></div><div><span class=\"year\">2019</span> <span class=\"pop\">14,968,000</span></div></div>\n"
          ],
          "name": "stdout"
        }
      ]
    },
    {
      "cell_type": "code",
      "metadata": {
        "id": "ZU_udyA2XgAn",
        "colab_type": "code",
        "outputId": "76e38b7d-ff40-4952-c3b9-90be06d0b0d3",
        "colab": {
          "base_uri": "https://localhost:8080/",
          "height": 34
        }
      },
      "source": [
        "links = my_table.findAll('div')\n",
        "links[0]"
      ],
      "execution_count": 76,
      "outputs": [
        {
          "output_type": "execute_result",
          "data": {
            "text/plain": [
              "<div><span class=\"year\">1950</span> <span class=\"pop\">967,000</span></div>"
            ]
          },
          "metadata": {
            "tags": []
          },
          "execution_count": 76
        }
      ]
    },
    {
      "cell_type": "code",
      "metadata": {
        "id": "mq56XzP8Y6dv",
        "colab_type": "code",
        "colab": {}
      },
      "source": [
        "year = [] \n",
        "population = [] \n",
        "i = 0\n",
        "\n",
        "for word in links:\n",
        "  if i%2 == 0:\n",
        "    year.append(word.get_text().strip())\n",
        "    \n",
        "  elif i%2 == 1:\n",
        "    population.append(word.get_text().strip())\n",
        "  i+=1\n",
        "# ruinned some stuff here lool"
      ],
      "execution_count": 0,
      "outputs": []
    },
    {
      "cell_type": "code",
      "metadata": {
        "id": "GoaFjQaVap6t",
        "colab_type": "code",
        "outputId": "c0d72fe1-329a-4829-8c73-090378dde0ef",
        "colab": {
          "base_uri": "https://localhost:8080/",
          "height": 34
        }
      },
      "source": [
        "year, population = [int(i[:4]) for i in year] + [int(i[:4]) for i in population], [int(i.replace(',', '')[5:]) for i in year] + [int(i.replace(',', '')[5:]) for i in population]\n",
        "year[:5]"
      ],
      "execution_count": 78,
      "outputs": [
        {
          "output_type": "execute_result",
          "data": {
            "text/plain": [
              "[1950, 1952, 1954, 1956, 1958]"
            ]
          },
          "metadata": {
            "tags": []
          },
          "execution_count": 78
        }
      ]
    },
    {
      "cell_type": "code",
      "metadata": {
        "id": "G-LuyyHxbRKG",
        "colab_type": "code",
        "outputId": "ab8b0d87-1c37-4be2-90b4-9b5f01bf470d",
        "colab": {
          "base_uri": "https://localhost:8080/",
          "height": 204
        }
      },
      "source": [
        "df = pd.DataFrame()\n",
        "df['year'] = year\n",
        "df['population'] = population\n",
        "df.sort_values(by='year', axis=0, ascending=True, inplace=True, kind='quicksort')\n",
        "df.head()"
      ],
      "execution_count": 82,
      "outputs": [
        {
          "output_type": "execute_result",
          "data": {
            "text/html": [
              "<div>\n",
              "<style scoped>\n",
              "    .dataframe tbody tr th:only-of-type {\n",
              "        vertical-align: middle;\n",
              "    }\n",
              "\n",
              "    .dataframe tbody tr th {\n",
              "        vertical-align: top;\n",
              "    }\n",
              "\n",
              "    .dataframe thead th {\n",
              "        text-align: right;\n",
              "    }\n",
              "</style>\n",
              "<table border=\"1\" class=\"dataframe\">\n",
              "  <thead>\n",
              "    <tr style=\"text-align: right;\">\n",
              "      <th></th>\n",
              "      <th>year</th>\n",
              "      <th>population</th>\n",
              "    </tr>\n",
              "  </thead>\n",
              "  <tbody>\n",
              "    <tr>\n",
              "      <th>0</th>\n",
              "      <td>1950</td>\n",
              "      <td>967000</td>\n",
              "    </tr>\n",
              "    <tr>\n",
              "      <th>35</th>\n",
              "      <td>1951</td>\n",
              "      <td>1018000</td>\n",
              "    </tr>\n",
              "    <tr>\n",
              "      <th>1</th>\n",
              "      <td>1952</td>\n",
              "      <td>1072000</td>\n",
              "    </tr>\n",
              "    <tr>\n",
              "      <th>36</th>\n",
              "      <td>1953</td>\n",
              "      <td>1128000</td>\n",
              "    </tr>\n",
              "    <tr>\n",
              "      <th>2</th>\n",
              "      <td>1954</td>\n",
              "      <td>1187000</td>\n",
              "    </tr>\n",
              "  </tbody>\n",
              "</table>\n",
              "</div>"
            ],
            "text/plain": [
              "    year  population\n",
              "0   1950      967000\n",
              "35  1951     1018000\n",
              "1   1952     1072000\n",
              "36  1953     1128000\n",
              "2   1954     1187000"
            ]
          },
          "metadata": {
            "tags": []
          },
          "execution_count": 82
        }
      ]
    },
    {
      "cell_type": "code",
      "metadata": {
        "id": "BVdOCgwXbvTT",
        "colab_type": "code",
        "colab": {}
      },
      "source": [
        " df.to_csv('population_history.csv', index=False)"
      ],
      "execution_count": 0,
      "outputs": []
    }
  ]
}