{
  "nbformat": 4,
  "nbformat_minor": 0,
  "metadata": {
    "colab": {
      "name": "population_by_districts.ipynb",
      "provenance": [],
      "include_colab_link": true
    },
    "kernelspec": {
      "name": "python3",
      "display_name": "Python 3"
    }
  },
  "cells": [
    {
      "cell_type": "markdown",
      "metadata": {
        "id": "view-in-github",
        "colab_type": "text"
      },
      "source": [
        "<a href=\"https://colab.research.google.com/github/AliKhyar/Your-restaurant-at-Istanbul/blob/master/population_by_districts.ipynb\" target=\"_parent\"><img src=\"https://colab.research.google.com/assets/colab-badge.svg\" alt=\"Open In Colab\"/></a>"
      ]
    },
    {
      "cell_type": "code",
      "metadata": {
        "id": "e_NDqulmyHb3",
        "colab_type": "code",
        "outputId": "fad87e81-a0bb-4ef9-d998-be2cdeaa586a",
        "colab": {
          "base_uri": "https://localhost:8080/",
          "height": 377
        }
      },
      "source": [
        "pip install requests-html"
      ],
      "execution_count": 160,
      "outputs": [
        {
          "output_type": "stream",
          "text": [
            "Requirement already satisfied: requests-html in /usr/local/lib/python3.6/dist-packages (0.10.0)\n",
            "Requirement already satisfied: parse in /usr/local/lib/python3.6/dist-packages (from requests-html) (1.13.0)\n",
            "Requirement already satisfied: w3lib in /usr/local/lib/python3.6/dist-packages (from requests-html) (1.21.0)\n",
            "Requirement already satisfied: pyquery in /usr/local/lib/python3.6/dist-packages (from requests-html) (1.4.1)\n",
            "Requirement already satisfied: requests in /usr/local/lib/python3.6/dist-packages (from requests-html) (2.21.0)\n",
            "Requirement already satisfied: pyppeteer>=0.0.14 in /usr/local/lib/python3.6/dist-packages (from requests-html) (0.0.25)\n",
            "Requirement already satisfied: bs4 in /usr/local/lib/python3.6/dist-packages (from requests-html) (0.0.1)\n",
            "Requirement already satisfied: fake-useragent in /usr/local/lib/python3.6/dist-packages (from requests-html) (0.1.11)\n",
            "Requirement already satisfied: six>=1.4.1 in /usr/local/lib/python3.6/dist-packages (from w3lib->requests-html) (1.12.0)\n",
            "Requirement already satisfied: lxml>=2.1 in /usr/local/lib/python3.6/dist-packages (from pyquery->requests-html) (4.2.6)\n",
            "Requirement already satisfied: cssselect>0.7.9 in /usr/local/lib/python3.6/dist-packages (from pyquery->requests-html) (1.1.0)\n",
            "Requirement already satisfied: idna<2.9,>=2.5 in /usr/local/lib/python3.6/dist-packages (from requests->requests-html) (2.8)\n",
            "Requirement already satisfied: certifi>=2017.4.17 in /usr/local/lib/python3.6/dist-packages (from requests->requests-html) (2019.11.28)\n",
            "Requirement already satisfied: chardet<3.1.0,>=3.0.2 in /usr/local/lib/python3.6/dist-packages (from requests->requests-html) (3.0.4)\n",
            "Requirement already satisfied: urllib3<1.25,>=1.21.1 in /usr/local/lib/python3.6/dist-packages (from requests->requests-html) (1.24.3)\n",
            "Requirement already satisfied: appdirs in /usr/local/lib/python3.6/dist-packages (from pyppeteer>=0.0.14->requests-html) (1.4.3)\n",
            "Requirement already satisfied: websockets in /usr/local/lib/python3.6/dist-packages (from pyppeteer>=0.0.14->requests-html) (8.1)\n",
            "Requirement already satisfied: tqdm in /usr/local/lib/python3.6/dist-packages (from pyppeteer>=0.0.14->requests-html) (4.28.1)\n",
            "Requirement already satisfied: pyee in /usr/local/lib/python3.6/dist-packages (from pyppeteer>=0.0.14->requests-html) (6.0.0)\n",
            "Requirement already satisfied: beautifulsoup4 in /usr/local/lib/python3.6/dist-packages (from bs4->requests-html) (4.6.3)\n"
          ],
          "name": "stdout"
        }
      ]
    },
    {
      "cell_type": "code",
      "metadata": {
        "id": "8PgQKYc-pfm-",
        "colab_type": "code",
        "colab": {}
      },
      "source": [
        "import requests\n",
        "from bs4 import BeautifulSoup\n",
        "import pandas as pd\n",
        "from requests_html import HTMLSession"
      ],
      "execution_count": 0,
      "outputs": []
    },
    {
      "cell_type": "code",
      "metadata": {
        "id": "sNPUCFe6q_U0",
        "colab_type": "code",
        "colab": {}
      },
      "source": [
        "session = HTMLSession()\n",
        "response = session.get('https://en.wikipedia.org/wiki/List_of_districts_of_Istanbul')\n",
        "soup = BeautifulSoup(response.content, 'html.parser')"
      ],
      "execution_count": 0,
      "outputs": []
    },
    {
      "cell_type": "code",
      "metadata": {
        "id": "t7f4t90DrHin",
        "colab_type": "code",
        "colab": {}
      },
      "source": [
        "my_table = soup.find('table',{'class':\"wikitable sortable\"})"
      ],
      "execution_count": 0,
      "outputs": []
    },
    {
      "cell_type": "code",
      "metadata": {
        "id": "EoS9IVnPsmLl",
        "colab_type": "code",
        "outputId": "1e801784-f842-4546-836b-c05d92b81356",
        "colab": {
          "base_uri": "https://localhost:8080/",
          "height": 119
        }
      },
      "source": [
        "links = my_table.findAll('td')\n",
        "links[:5]"
      ],
      "execution_count": 164,
      "outputs": [
        {
          "output_type": "execute_result",
          "data": {
            "text/plain": [
              "[<td><a href=\"/wiki/Princes%27_Islands\" title=\"Princes' Islands\">Adalar</a>\n",
              " </td>, <td>16,119\n",
              " </td>, <td>11.05\n",
              " </td>, <td>1,458\n",
              " </td>, <td><a href=\"/wiki/Arnavutk%C3%B6y_(district)\" title=\"Arnavutköy (district)\">Arnavutköy</a>\n",
              " </td>]"
            ]
          },
          "metadata": {
            "tags": []
          },
          "execution_count": 164
        }
      ]
    },
    {
      "cell_type": "code",
      "metadata": {
        "id": "PeALcb1WtvTS",
        "colab_type": "code",
        "outputId": "bcdc22af-cf7e-4d03-dc50-3c9bb62ebe93",
        "colab": {
          "base_uri": "https://localhost:8080/",
          "height": 34
        }
      },
      "source": [
        "l = []\n",
        "links[0].find('a').get('title')\n",
        "for word in links:\n",
        "      print(word.find('a',{\"class\":\"\"}))\n",
        "\n",
        "      break\n"
      ],
      "execution_count": 165,
      "outputs": [
        {
          "output_type": "stream",
          "text": [
            "<a href=\"/wiki/Princes%27_Islands\" title=\"Princes' Islands\">Adalar</a>\n"
          ],
          "name": "stdout"
        }
      ]
    },
    {
      "cell_type": "code",
      "metadata": {
        "id": "DbiPjP-grTGZ",
        "colab_type": "code",
        "outputId": "e765dc3c-25d8-46c8-a0c7-5074af425439",
        "colab": {
          "base_uri": "https://localhost:8080/",
          "height": 197
        }
      },
      "source": [
        "#District\tPopulation (2018)\tArea (km²)\tDensity (per km²)\n",
        "District = [] \n",
        "Population = [] \n",
        "Area = []\n",
        "Density = []\n",
        "i = 0\n",
        "\n",
        "for word in links:\n",
        "  if i%4 == 0:\n",
        "    District.append(str(word.get_text().replace(',', '').strip()))\n",
        "  elif i%4 == 1:\n",
        "    Population.append(int(word.get_text().replace(',', '').strip()))\n",
        "  \n",
        "  elif i%4 == 2:\n",
        "    Area.append(word.get_text(strip=True).replace('.', ''))\n",
        "  elif i%4 == 3:\n",
        "    Density.append(word.get_text().replace(',', '').strip())\n",
        "  i+=1\n"
      ],
      "execution_count": 172,
      "outputs": [
        {
          "output_type": "error",
          "ename": "AttributeError",
          "evalue": "ignored",
          "traceback": [
            "\u001b[0;31m---------------------------------------------------------------------------\u001b[0m",
            "\u001b[0;31mAttributeError\u001b[0m                            Traceback (most recent call last)",
            "\u001b[0;32m<ipython-input-172-932a6ffed6cc>\u001b[0m in \u001b[0;36m<module>\u001b[0;34m()\u001b[0m\n\u001b[1;32m     16\u001b[0m     \u001b[0mDensity\u001b[0m\u001b[0;34m.\u001b[0m\u001b[0mappend\u001b[0m\u001b[0;34m(\u001b[0m\u001b[0mword\u001b[0m\u001b[0;34m.\u001b[0m\u001b[0mget_text\u001b[0m\u001b[0;34m(\u001b[0m\u001b[0;34m)\u001b[0m\u001b[0;34m.\u001b[0m\u001b[0mreplace\u001b[0m\u001b[0;34m(\u001b[0m\u001b[0;34m','\u001b[0m\u001b[0;34m,\u001b[0m \u001b[0;34m''\u001b[0m\u001b[0;34m)\u001b[0m\u001b[0;34m.\u001b[0m\u001b[0mstrip\u001b[0m\u001b[0;34m(\u001b[0m\u001b[0;34m)\u001b[0m\u001b[0;34m)\u001b[0m\u001b[0;34m\u001b[0m\u001b[0;34m\u001b[0m\u001b[0m\n\u001b[1;32m     17\u001b[0m   \u001b[0mi\u001b[0m\u001b[0;34m+=\u001b[0m\u001b[0;36m1\u001b[0m\u001b[0;34m\u001b[0m\u001b[0;34m\u001b[0m\u001b[0m\n\u001b[0;32m---> 18\u001b[0;31m \u001b[0mDistrict\u001b[0m\u001b[0;34m[\u001b[0m\u001b[0;36m0\u001b[0m\u001b[0;34m]\u001b[0m\u001b[0;34m.\u001b[0m\u001b[0mget\u001b[0m\u001b[0;34m(\u001b[0m\u001b[0;34m'title'\u001b[0m\u001b[0;34m)\u001b[0m\u001b[0;34m.\u001b[0m\u001b[0mstrip\u001b[0m\u001b[0;34m(\u001b[0m\u001b[0;34m)\u001b[0m\u001b[0;34m\u001b[0m\u001b[0;34m\u001b[0m\u001b[0m\n\u001b[0m",
            "\u001b[0;31mAttributeError\u001b[0m: 'str' object has no attribute 'get'"
          ]
        }
      ]
    },
    {
      "cell_type": "code",
      "metadata": {
        "id": "zzvQIDrgGa3q",
        "colab_type": "code",
        "colab": {
          "base_uri": "https://localhost:8080/",
          "height": 34
        },
        "outputId": "73e3593c-43ea-4633-b62b-485c51cd2d84"
      },
      "source": [
        "District[0]"
      ],
      "execution_count": 174,
      "outputs": [
        {
          "output_type": "execute_result",
          "data": {
            "text/plain": [
              "'Adalar'"
            ]
          },
          "metadata": {
            "tags": []
          },
          "execution_count": 174
        }
      ]
    },
    {
      "cell_type": "code",
      "metadata": {
        "id": "UGVCaKFzsQsC",
        "colab_type": "code",
        "colab": {}
      },
      "source": [
        ""
      ],
      "execution_count": 0,
      "outputs": []
    },
    {
      "cell_type": "code",
      "metadata": {
        "id": "7KbAZfbf0g9j",
        "colab_type": "code",
        "colab": {
          "base_uri": "https://localhost:8080/",
          "height": 204
        },
        "outputId": "05febef0-d508-4a57-8717-e40678382ab9"
      },
      "source": [
        "df = pd.DataFrame()\n",
        "df['District'] = District\n",
        "df['Population'] = Population\n",
        "df['Area per km^2'] = Area\n",
        "df['Density per km^2'] = Density\n",
        "\n",
        "df = df.iloc[:-4,]\n",
        "df.head()"
      ],
      "execution_count": 176,
      "outputs": [
        {
          "output_type": "execute_result",
          "data": {
            "text/html": [
              "<div>\n",
              "<style scoped>\n",
              "    .dataframe tbody tr th:only-of-type {\n",
              "        vertical-align: middle;\n",
              "    }\n",
              "\n",
              "    .dataframe tbody tr th {\n",
              "        vertical-align: top;\n",
              "    }\n",
              "\n",
              "    .dataframe thead th {\n",
              "        text-align: right;\n",
              "    }\n",
              "</style>\n",
              "<table border=\"1\" class=\"dataframe\">\n",
              "  <thead>\n",
              "    <tr style=\"text-align: right;\">\n",
              "      <th></th>\n",
              "      <th>District</th>\n",
              "      <th>Population</th>\n",
              "      <th>Area per km^2</th>\n",
              "      <th>Density per km^2</th>\n",
              "    </tr>\n",
              "  </thead>\n",
              "  <tbody>\n",
              "    <tr>\n",
              "      <th>0</th>\n",
              "      <td>Adalar</td>\n",
              "      <td>16119</td>\n",
              "      <td>1105</td>\n",
              "      <td>1458</td>\n",
              "    </tr>\n",
              "    <tr>\n",
              "      <th>1</th>\n",
              "      <td>Arnavutköy</td>\n",
              "      <td>270549</td>\n",
              "      <td>45035</td>\n",
              "      <td>600</td>\n",
              "    </tr>\n",
              "    <tr>\n",
              "      <th>2</th>\n",
              "      <td>Ataşehir</td>\n",
              "      <td>416318</td>\n",
              "      <td>2520</td>\n",
              "      <td>16520</td>\n",
              "    </tr>\n",
              "    <tr>\n",
              "      <th>3</th>\n",
              "      <td>Avcılar</td>\n",
              "      <td>435625</td>\n",
              "      <td>4201</td>\n",
              "      <td>10369</td>\n",
              "    </tr>\n",
              "    <tr>\n",
              "      <th>4</th>\n",
              "      <td>Bağcılar</td>\n",
              "      <td>734369</td>\n",
              "      <td>2236</td>\n",
              "      <td>32842</td>\n",
              "    </tr>\n",
              "  </tbody>\n",
              "</table>\n",
              "</div>"
            ],
            "text/plain": [
              "     District  Population Area per km^2 Density per km^2\n",
              "0      Adalar       16119          1105             1458\n",
              "1  Arnavutköy      270549         45035              600\n",
              "2    Ataşehir      416318          2520            16520\n",
              "3     Avcılar      435625          4201            10369\n",
              "4    Bağcılar      734369          2236            32842"
            ]
          },
          "metadata": {
            "tags": []
          },
          "execution_count": 176
        }
      ]
    },
    {
      "cell_type": "code",
      "metadata": {
        "id": "B-bFltMGLbhg",
        "colab_type": "code",
        "colab": {}
      },
      "source": [
        " df.to_csv('population_by_districts.csv', index=False)"
      ],
      "execution_count": 0,
      "outputs": []
    },
    {
      "cell_type": "code",
      "metadata": {
        "id": "mE9-A6tzLui3",
        "colab_type": "code",
        "colab": {}
      },
      "source": [
        ""
      ],
      "execution_count": 0,
      "outputs": []
    }
  ]
}