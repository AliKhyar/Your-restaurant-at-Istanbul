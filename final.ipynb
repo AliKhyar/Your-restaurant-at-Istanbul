{
  "nbformat": 4,
  "nbformat_minor": 0,
  "metadata": {
    "colab": {
      "name": "final.ipynb",
      "provenance": [],
      "include_colab_link": true
    },
    "kernelspec": {
      "name": "python3",
      "display_name": "Python 3"
    }
  },
  "cells": [
    {
      "cell_type": "markdown",
      "metadata": {
        "id": "view-in-github",
        "colab_type": "text"
      },
      "source": [
        "<a href=\"https://colab.research.google.com/github/AliKhyar/Your-restaurant-at-Istanbul/blob/master/final.ipynb\" target=\"_parent\"><img src=\"https://colab.research.google.com/assets/colab-badge.svg\" alt=\"Open In Colab\"/></a>"
      ]
    },
    {
      "cell_type": "code",
      "metadata": {
        "id": "qsWs3zra1Oyt",
        "colab_type": "code",
        "colab": {
          "base_uri": "https://localhost:8080/",
          "height": 68
        },
        "outputId": "105be7f8-7580-49ac-a21e-4eda5cdb0d52"
      },
      "source": [
        "import numpy as np # library to handle data in a vectorized manner\n",
        "\n",
        "import pandas as pd # library for data analsysis\n",
        "pd.set_option('display.max_columns', None)\n",
        "pd.set_option('display.max_rows', None)\n",
        "\n",
        "import json # library to handle JSON files\n",
        "\n",
        "!conda install -c conda-forge geopy --yes # uncomment this line if you haven't completed the Foursquare API lab\n",
        "from geopy.geocoders import Nominatim # convert an address into latitude and longitude values\n",
        "\n",
        "import requests # library to handle requests\n",
        "from pandas.io.json import json_normalize # tranform JSON file into a pandas dataframe\n",
        "\n",
        "# Matplotlib and associated plotting modules\n",
        "import matplotlib.cm as cm\n",
        "import matplotlib.colors as colors\n",
        "\n",
        "# import k-means from clustering stage\n",
        "from sklearn.cluster import KMeans\n",
        "\n",
        "!conda install -c conda-forge folium=0.5.0 --yes # uncomment this line if you haven't completed the Foursquare API lab\n",
        "import folium # map rendering library\n",
        "\n",
        "print('Libraries imported.')"
      ],
      "execution_count": 1,
      "outputs": [
        {
          "output_type": "stream",
          "text": [
            "/bin/bash: conda: command not found\n",
            "/bin/bash: conda: command not found\n",
            "Libraries imported.\n"
          ],
          "name": "stdout"
        }
      ]
    },
    {
      "cell_type": "code",
      "metadata": {
        "id": "vtEAkkf11WhR",
        "colab_type": "code",
        "colab": {
          "base_uri": "https://localhost:8080/",
          "height": 204
        },
        "outputId": "5ecda3a9-cf0a-43c5-e755-d1c12bd1c966"
      },
      "source": [
        "Districts = ['Gaziosmanpaşa', 'Güngören', 'Bahçelievler', 'Bağcılar', 'Kağıthane']\n",
        "Latitudes = [41.058640,41.024710,41.013180,41.034698,41.079400]\n",
        "Longitudes = [28.911380,28.872700, 28.488540,28.857670,28.976370]\n",
        "\n",
        "df = pd.DataFrame()\n",
        "df['District'] = Districts\n",
        "df['Latitude'] = Latitudes\n",
        "df['Longitude'] = Longitudes\n",
        "df.head()"
      ],
      "execution_count": 73,
      "outputs": [
        {
          "output_type": "execute_result",
          "data": {
            "text/html": [
              "<div>\n",
              "<style scoped>\n",
              "    .dataframe tbody tr th:only-of-type {\n",
              "        vertical-align: middle;\n",
              "    }\n",
              "\n",
              "    .dataframe tbody tr th {\n",
              "        vertical-align: top;\n",
              "    }\n",
              "\n",
              "    .dataframe thead th {\n",
              "        text-align: right;\n",
              "    }\n",
              "</style>\n",
              "<table border=\"1\" class=\"dataframe\">\n",
              "  <thead>\n",
              "    <tr style=\"text-align: right;\">\n",
              "      <th></th>\n",
              "      <th>District</th>\n",
              "      <th>Latitude</th>\n",
              "      <th>Longitude</th>\n",
              "    </tr>\n",
              "  </thead>\n",
              "  <tbody>\n",
              "    <tr>\n",
              "      <th>0</th>\n",
              "      <td>Gaziosmanpaşa</td>\n",
              "      <td>41.058640</td>\n",
              "      <td>28.91138</td>\n",
              "    </tr>\n",
              "    <tr>\n",
              "      <th>1</th>\n",
              "      <td>Güngören</td>\n",
              "      <td>41.024710</td>\n",
              "      <td>28.87270</td>\n",
              "    </tr>\n",
              "    <tr>\n",
              "      <th>2</th>\n",
              "      <td>Bahçelievler</td>\n",
              "      <td>41.013180</td>\n",
              "      <td>28.48854</td>\n",
              "    </tr>\n",
              "    <tr>\n",
              "      <th>3</th>\n",
              "      <td>Bağcılar</td>\n",
              "      <td>41.034698</td>\n",
              "      <td>28.85767</td>\n",
              "    </tr>\n",
              "    <tr>\n",
              "      <th>4</th>\n",
              "      <td>Kağıthane</td>\n",
              "      <td>41.079400</td>\n",
              "      <td>28.97637</td>\n",
              "    </tr>\n",
              "  </tbody>\n",
              "</table>\n",
              "</div>"
            ],
            "text/plain": [
              "        District   Latitude  Longitude\n",
              "0  Gaziosmanpaşa  41.058640   28.91138\n",
              "1       Güngören  41.024710   28.87270\n",
              "2   Bahçelievler  41.013180   28.48854\n",
              "3       Bağcılar  41.034698   28.85767\n",
              "4      Kağıthane  41.079400   28.97637"
            ]
          },
          "metadata": {
            "tags": []
          },
          "execution_count": 73
        }
      ]
    },
    {
      "cell_type": "code",
      "metadata": {
        "id": "E2eIO4l51lX7",
        "colab_type": "code",
        "colab": {
          "base_uri": "https://localhost:8080/",
          "height": 556
        },
        "outputId": "f57871a3-f816-403c-9a70-0e52263fd8db"
      },
      "source": [
        "\n",
        "# create map of Istanbul using latitude and longitude values\n",
        "latitude, longitude = 41.008240, 28.978359\n",
        "map_Istanbul = folium.Map(location=[latitude, longitude], zoom_start=10)\n",
        "\n",
        "#add markers to map\n",
        "for lat, lng, label in zip(df['Latitude'], df['Longitude'], df['District']):\n",
        "    label = folium.Popup(label, parse_html=True)\n",
        "    folium.CircleMarker(\n",
        "        [lat, lng],\n",
        "        radius=5,\n",
        "        popup=label,\n",
        "        color='blue',\n",
        "        fill=True,\n",
        "        fill_color='#3186cc',\n",
        "        fill_opacity=0.7,\n",
        "        parse_html=False).add_to(map_Istanbul)  \n",
        "    \n",
        "map_Istanbul\n",
        "Kağıthane"
      ],
      "execution_count": 76,
      "outputs": [
        {
          "output_type": "execute_result",
          "data": {
            "text/html": [
              "<div style=\"width:100%;\"><div style=\"position:relative;width:100%;height:0;padding-bottom:60%;\"><iframe src=\"data:text/html;charset=utf-8;base64,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\" style=\"position:absolute;width:100%;height:100%;left:0;top:0;border:none !important;\" allowfullscreen webkitallowfullscreen mozallowfullscreen></iframe></div></div>"
            ],
            "text/plain": [
              "<folium.folium.Map at 0x7f4663e8a898>"
            ]
          },
          "metadata": {
            "tags": []
          },
          "execution_count": 76
        }
      ]
    },
    {
      "cell_type": "code",
      "metadata": {
        "id": "_P-JGthl2r3a",
        "colab_type": "code",
        "colab": {
          "base_uri": "https://localhost:8080/",
          "height": 68
        },
        "outputId": "8baa3637-cb6b-403c-bdb5-96fbabca202c"
      },
      "source": [
        "CLIENT_ID = 'FK2ADO3XOFSGB5JEOJ4FLZA0E2Z3BP1KVRCU4QHIFVBQWC25' # your Foursquare ID\n",
        "CLIENT_SECRET = '2DX1O5PPKY3JRFXCAONGYEWHRRR5KETTC32PH0R1NMK5UJJQ' # your Foursquare Secret\n",
        "VERSION = '20180605' # Foursquare API version\n",
        "\n",
        "print('Your credentails:')\n",
        "print('CLIENT_ID: ' + CLIENT_ID)\n",
        "print('CLIENT_SECRET:' + CLIENT_SECRET)"
      ],
      "execution_count": 77,
      "outputs": [
        {
          "output_type": "stream",
          "text": [
            "Your credentails:\n",
            "CLIENT_ID: FK2ADO3XOFSGB5JEOJ4FLZA0E2Z3BP1KVRCU4QHIFVBQWC25\n",
            "CLIENT_SECRET:2DX1O5PPKY3JRFXCAONGYEWHRRR5KETTC32PH0R1NMK5UJJQ\n"
          ],
          "name": "stdout"
        }
      ]
    },
    {
      "cell_type": "code",
      "metadata": {
        "id": "FAqD0NmW4WhW",
        "colab_type": "code",
        "colab": {
          "base_uri": "https://localhost:8080/",
          "height": 1000
        },
        "outputId": "401f35f5-823a-4c62-a526-4862ecfd815f"
      },
      "source": [
        "# type your answer here\n",
        "for label,lat, lng in zip(df['District'],df['Latitude'], df['Longitude']):\n",
        "  latitude = lat\n",
        "  longitude = lng\n",
        "  \n",
        "  LIMIT = 200\n",
        "\n",
        "  radius = 200\n",
        "\n",
        "  url = 'https://api.foursquare.com/v2/venues/explore?&client_id={}&client_secret={}&v={}&ll={},{}&radius={}&limit={}'.format(\n",
        "      CLIENT_ID, \n",
        "      CLIENT_SECRET, \n",
        "      VERSION, \n",
        "      latitude, \n",
        "      longitude, \n",
        "      radius,\n",
        "      LIMIT)\n",
        "  results = requests.get(url).json()\n",
        "  print(\"\")\n",
        "  print(\"#########################\")\n",
        "  print(\"\")\n",
        "  print(f\"Most common at {label}:\")\n",
        "  print(common(results))\n"
      ],
      "execution_count": 114,
      "outputs": [
        {
          "output_type": "stream",
          "text": [
            "\n",
            "#########################\n",
            "\n",
            "Most common at Gaziosmanpaşa:\n",
            "Turkish Restaurant               3\n",
            "Bakery                           2\n",
            "Steakhouse                       2\n",
            "Café                             2\n",
            "Mobile Phone Shop                2\n",
            "Clothing Store                   2\n",
            "Pide Place                       1\n",
            "Restaurant                       1\n",
            "Diner                            1\n",
            "Paper / Office Supplies Store    1\n",
            "Hookah Bar                       1\n",
            "Boutique                         1\n",
            "Buffet                           1\n",
            "Shoe Store                       1\n",
            "Grocery Store                    1\n",
            "Arcade                           1\n",
            "Bagel Shop                       1\n",
            "Electronics Store                1\n",
            "Bar                              1\n",
            "Dessert Shop                     1\n",
            "Name: categories, dtype: int64\n",
            "\n",
            "#########################\n",
            "\n",
            "Most common at Güngören:\n",
            "Turkish Restaurant                 8\n",
            "Kebab Restaurant                   7\n",
            "Dessert Shop                       6\n",
            "Steakhouse                         6\n",
            "Middle Eastern Restaurant          2\n",
            "Café                               2\n",
            "Afghan Restaurant                  1\n",
            "Furniture / Home Store             1\n",
            "Beer Garden                        1\n",
            "Soup Place                         1\n",
            "Arcade                             1\n",
            "Gym                                1\n",
            "Turkish Home Cooking Restaurant    1\n",
            "Gym / Fitness Center               1\n",
            "Food Court                         1\n",
            "Mediterranean Restaurant           1\n",
            "Convenience Store                  1\n",
            "Mobile Phone Shop                  1\n",
            "Name: categories, dtype: int64\n",
            "\n",
            "#########################\n",
            "\n",
            "Most common at Bahçelievler:\n",
            "Pool              1\n",
            "Breakfast Spot    1\n",
            "Name: categories, dtype: int64\n",
            "\n",
            "#########################\n",
            "\n",
            "Most common at Bağcılar:\n",
            "Café                    6\n",
            "Dessert Shop            2\n",
            "Pedestrian Plaza        1\n",
            "Garden                  1\n",
            "Bagel Shop              1\n",
            "Pie Shop                1\n",
            "Pilavcı                 1\n",
            "Jewelry Store           1\n",
            "Breakfast Spot          1\n",
            "Cosmetics Shop          1\n",
            "Fast Food Restaurant    1\n",
            "Gym                     1\n",
            "Soup Place              1\n",
            "Electronics Store       1\n",
            "Steakhouse              1\n",
            "Burger Joint            1\n",
            "Pizza Place             1\n",
            "Name: categories, dtype: int64\n",
            "\n",
            "#########################\n",
            "\n",
            "Most common at Kağıthane:\n",
            "Hotel               1\n",
            "Department Store    1\n",
            "Park                1\n",
            "Name: categories, dtype: int64\n"
          ],
          "name": "stdout"
        }
      ]
    },
    {
      "cell_type": "code",
      "metadata": {
        "id": "43f5J9d54h59",
        "colab_type": "code",
        "colab": {}
      },
      "source": [
        ""
      ],
      "execution_count": 0,
      "outputs": []
    },
    {
      "cell_type": "code",
      "metadata": {
        "id": "4DTn1LNgUCSn",
        "colab_type": "code",
        "colab": {}
      },
      "source": [
        ""
      ],
      "execution_count": 0,
      "outputs": []
    },
    {
      "cell_type": "code",
      "metadata": {
        "id": "1tIfpANj4lsm",
        "colab_type": "code",
        "colab": {}
      },
      "source": [
        "# function that extracts the category of the venue\n",
        "def get_category_type(row):\n",
        "    try:\n",
        "        categories_list = row['categories']\n",
        "    except:\n",
        "        categories_list = row['venue.categories']\n",
        "        \n",
        "    if len(categories_list) == 0:\n",
        "        return None\n",
        "    else:\n",
        "        return categories_list[0]['name']"
      ],
      "execution_count": 0,
      "outputs": []
    },
    {
      "cell_type": "code",
      "metadata": {
        "id": "eLAHZrE7QChs",
        "colab_type": "code",
        "colab": {}
      },
      "source": [
        "def common(results):\n",
        "  venues = results['response']['groups'][0]['items']\n",
        "      \n",
        "  nearby_venues = json_normalize(venues) # flatten JSON\n",
        "\n",
        "  # filter columns\n",
        "  filtered_columns = ['venue.name', 'venue.categories', 'venue.location.lat', 'venue.location.lng']\n",
        "  nearby_venues =nearby_venues.loc[:, filtered_columns]\n",
        "\n",
        "  # filter the category for each row\n",
        "  nearby_venues['venue.categories'] = nearby_venues.apply(get_category_type, axis=1)\n",
        "\n",
        "  # clean columns\n",
        "  nearby_venues.columns = [col.split(\".\")[-1] for col in nearby_venues.columns]\n",
        "  \n",
        "  return nearby_venues['categories'].value_counts()\n",
        "  "
      ],
      "execution_count": 0,
      "outputs": []
    },
    {
      "cell_type": "code",
      "metadata": {
        "id": "9oevkd8sQHlN",
        "colab_type": "code",
        "colab": {
          "base_uri": "https://localhost:8080/",
          "height": 374
        },
        "outputId": "982d9f95-65fa-45c6-ecfb-e3d2d248cf21"
      },
      "source": [
        "# nearby_venues.groupby('categories').count() \n"
      ],
      "execution_count": 108,
      "outputs": [
        {
          "output_type": "execute_result",
          "data": {
            "text/plain": [
              "Turkish Restaurant               3\n",
              "Bakery                           2\n",
              "Steakhouse                       2\n",
              "Café                             2\n",
              "Mobile Phone Shop                2\n",
              "Clothing Store                   2\n",
              "Pide Place                       1\n",
              "Restaurant                       1\n",
              "Diner                            1\n",
              "Paper / Office Supplies Store    1\n",
              "Hookah Bar                       1\n",
              "Boutique                         1\n",
              "Buffet                           1\n",
              "Shoe Store                       1\n",
              "Grocery Store                    1\n",
              "Arcade                           1\n",
              "Bagel Shop                       1\n",
              "Electronics Store                1\n",
              "Bar                              1\n",
              "Dessert Shop                     1\n",
              "Name: categories, dtype: int64"
            ]
          },
          "metadata": {
            "tags": []
          },
          "execution_count": 108
        }
      ]
    },
    {
      "cell_type": "code",
      "metadata": {
        "id": "xjqIz5C_QOhK",
        "colab_type": "code",
        "colab": {}
      },
      "source": [
        "def getNearbyVenues(names, latitudes, longitudes, radius=500):\n",
        "    \n",
        "    venues_list=[]\n",
        "    for name, lat, lng in zip(names, latitudes, longitudes):\n",
        "        print(name)\n",
        "            \n",
        "        # create the API request URL\n",
        "        url = 'https://api.foursquare.com/v2/venues/explore?&client_id={}&client_secret={}&v={}&ll={},{}&radius={}&limit={}'.format(\n",
        "            CLIENT_ID, \n",
        "            CLIENT_SECRET, \n",
        "            VERSION, \n",
        "            lat, \n",
        "            lng, \n",
        "            radius, \n",
        "            LIMIT)\n",
        "            \n",
        "        # make the GET request\n",
        "        results = requests.get(url).json()[\"response\"]['groups'][0]['items']\n",
        "        \n",
        "        # return only relevant information for each nearby venue\n",
        "        venues_list.append([(\n",
        "            name, \n",
        "            lat, \n",
        "            lng, \n",
        "            v['venue']['name'], \n",
        "            v['venue']['location']['lat'], \n",
        "            v['venue']['location']['lng'],  \n",
        "            v['venue']['categories'][0]['name']) for v in results])\n",
        "\n",
        "    nearby_venues = pd.DataFrame([item for venue_list in venues_list for item in venue_list])\n",
        "    nearby_venues.columns = ['Neighborhood', \n",
        "                  'Neighborhood Latitude', \n",
        "                  'Neighborhood Longitude', \n",
        "                  'Venue', \n",
        "                  'Venue Latitude', \n",
        "                  'Venue Longitude', \n",
        "                  'Venue Category']\n",
        "    \n",
        "    return(nearby_venues)"
      ],
      "execution_count": 0,
      "outputs": []
    },
    {
      "cell_type": "code",
      "metadata": {
        "id": "cn__1PBMQoD2",
        "colab_type": "code",
        "colab": {}
      },
      "source": [
        ""
      ],
      "execution_count": 0,
      "outputs": []
    }
  ]
}